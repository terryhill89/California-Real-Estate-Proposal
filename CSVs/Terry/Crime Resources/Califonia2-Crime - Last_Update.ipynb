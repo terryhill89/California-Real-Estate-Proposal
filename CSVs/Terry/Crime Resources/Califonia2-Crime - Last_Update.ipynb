{
 "cells": [
  {
   "cell_type": "code",
   "execution_count": 1,
   "id": "49c63361",
   "metadata": {},
   "outputs": [],
   "source": [
    "import pandas as pd\n"
   ]
  },
  {
   "cell_type": "code",
   "execution_count": 3,
   "id": "737e4518",
   "metadata": {},
   "outputs": [
    {
     "data": {
      "text/html": [
       "<div>\n",
       "<style scoped>\n",
       "    .dataframe tbody tr th:only-of-type {\n",
       "        vertical-align: middle;\n",
       "    }\n",
       "\n",
       "    .dataframe tbody tr th {\n",
       "        vertical-align: top;\n",
       "    }\n",
       "\n",
       "    .dataframe thead th {\n",
       "        text-align: right;\n",
       "    }\n",
       "</style>\n",
       "<table border=\"1\" class=\"dataframe\">\n",
       "  <thead>\n",
       "    <tr style=\"text-align: right;\">\n",
       "      <th></th>\n",
       "      <th>Year</th>\n",
       "      <th>County_name</th>\n",
       "      <th>County_dept</th>\n",
       "      <th>Crimes</th>\n",
       "      <th>Number of Crimes</th>\n",
       "    </tr>\n",
       "  </thead>\n",
       "  <tbody>\n",
       "    <tr>\n",
       "      <th>0</th>\n",
       "      <td>2021</td>\n",
       "      <td>Alameda County</td>\n",
       "      <td>Alameda Co. Sheriff's Department</td>\n",
       "      <td>Violent_sum</td>\n",
       "      <td>10436</td>\n",
       "    </tr>\n",
       "    <tr>\n",
       "      <th>1</th>\n",
       "      <td>2021</td>\n",
       "      <td>Alpine County</td>\n",
       "      <td>Alpine Co. Sheriff's Department</td>\n",
       "      <td>Violent_sum</td>\n",
       "      <td>19</td>\n",
       "    </tr>\n",
       "    <tr>\n",
       "      <th>2</th>\n",
       "      <td>2021</td>\n",
       "      <td>Amador County</td>\n",
       "      <td>Amador Co. Sheriff's Department</td>\n",
       "      <td>Violent_sum</td>\n",
       "      <td>135</td>\n",
       "    </tr>\n",
       "    <tr>\n",
       "      <th>3</th>\n",
       "      <td>2021</td>\n",
       "      <td>Butte County</td>\n",
       "      <td>Butte Co. Sheriff's Department</td>\n",
       "      <td>Violent_sum</td>\n",
       "      <td>1110</td>\n",
       "    </tr>\n",
       "    <tr>\n",
       "      <th>4</th>\n",
       "      <td>2021</td>\n",
       "      <td>Calaveras County</td>\n",
       "      <td>Calaveras Co. Sheriff's Department</td>\n",
       "      <td>Violent_sum</td>\n",
       "      <td>185</td>\n",
       "    </tr>\n",
       "  </tbody>\n",
       "</table>\n",
       "</div>"
      ],
      "text/plain": [
       "   Year       County_name                         County_dept       Crimes  \\\n",
       "0  2021    Alameda County    Alameda Co. Sheriff's Department  Violent_sum   \n",
       "1  2021     Alpine County     Alpine Co. Sheriff's Department  Violent_sum   \n",
       "2  2021     Amador County     Amador Co. Sheriff's Department  Violent_sum   \n",
       "3  2021      Butte County      Butte Co. Sheriff's Department  Violent_sum   \n",
       "4  2021  Calaveras County  Calaveras Co. Sheriff's Department  Violent_sum   \n",
       "\n",
       "   Number of Crimes  \n",
       "0             10436  \n",
       "1                19  \n",
       "2               135  \n",
       "3              1110  \n",
       "4               185  "
      ]
     },
     "execution_count": 3,
     "metadata": {},
     "output_type": "execute_result"
    }
   ],
   "source": [
    "# Read the data into a Pandas DataFrame\n",
    "crimes_Update_df = pd.read_csv(\"data/Crimes_2021_Update.csv\")\n",
    "crimes_Update_df.head()"
   ]
  },
  {
   "cell_type": "code",
   "execution_count": 5,
   "id": "e6964ad5",
   "metadata": {},
   "outputs": [
    {
     "name": "stdout",
     "output_type": "stream",
     "text": [
      "<class 'pandas.core.frame.DataFrame'>\n",
      "RangeIndex: 580 entries, 0 to 579\n",
      "Data columns (total 5 columns):\n",
      " #   Column            Non-Null Count  Dtype \n",
      "---  ------            --------------  ----- \n",
      " 0   Year              580 non-null    int64 \n",
      " 1   County_name       580 non-null    object\n",
      " 2   County_dept       580 non-null    object\n",
      " 3   Crimes            580 non-null    object\n",
      " 4   Number of Crimes  580 non-null    int64 \n",
      "dtypes: int64(2), object(3)\n",
      "memory usage: 22.8+ KB\n"
     ]
    }
   ],
   "source": [
    "crimes_Update_df.info()"
   ]
  },
  {
   "cell_type": "code",
   "execution_count": 7,
   "id": "b6971e7f",
   "metadata": {},
   "outputs": [],
   "source": [
    "crimes_Update_df.to_json('crimes_Update.json',orient='records')"
   ]
  },
  {
   "cell_type": "code",
   "execution_count": null,
   "id": "e09af9f8",
   "metadata": {},
   "outputs": [],
   "source": []
  }
 ],
 "metadata": {
  "kernelspec": {
   "display_name": "PythonData",
   "language": "python",
   "name": "pythondata"
  },
  "language_info": {
   "codemirror_mode": {
    "name": "ipython",
    "version": 3
   },
   "file_extension": ".py",
   "mimetype": "text/x-python",
   "name": "python",
   "nbconvert_exporter": "python",
   "pygments_lexer": "ipython3",
   "version": "3.7.7"
  }
 },
 "nbformat": 4,
 "nbformat_minor": 5
}
